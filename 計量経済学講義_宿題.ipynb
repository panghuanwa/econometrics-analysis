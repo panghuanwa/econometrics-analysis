{
 "cells": [
  {
   "cell_type": "markdown",
   "metadata": {},
   "source": [
    "# Home Work"
   ]
  },
  {
   "cell_type": "code",
   "execution_count": 1,
   "metadata": {},
   "outputs": [],
   "source": [
    "# 行列計算のため\n",
    "import numpy as np\n",
    "#csv拡張子を読む、データフレーム形式になる\n",
    "import pandas as pd\n",
    "#図を描くため\n",
    "import matplotlib.pyplot as plt\n",
    "#統計モデル\n",
    "import statsmodels.api as sm\n",
    "import statsmodels.formula.api as smf\n",
    "#警告メッセージ非表示\n",
    "import warnings\n",
    "warnings.filterwarnings('ignore')\n",
    "from scipy.stats import logistic\n",
    "import scipy.stats"
   ]
  },
  {
   "cell_type": "markdown",
   "metadata": {},
   "source": [
    "### csvファイル読む"
   ]
  },
  {
   "cell_type": "code",
   "execution_count": 2,
   "metadata": {},
   "outputs": [
    {
     "data": {
      "text/html": [
       "<div>\n",
       "<table border=\"1\" class=\"dataframe\">\n",
       "  <thead>\n",
       "    <tr style=\"text-align: right;\">\n",
       "      <th></th>\n",
       "      <th>educ</th>\n",
       "      <th>age</th>\n",
       "      <th>income</th>\n",
       "      <th>pcigs79</th>\n",
       "      <th>ageeduc</th>\n",
       "      <th>smoker</th>\n",
       "      <th>educincome</th>\n",
       "    </tr>\n",
       "  </thead>\n",
       "  <tbody>\n",
       "    <tr>\n",
       "      <th>0</th>\n",
       "      <td>12.0</td>\n",
       "      <td>21</td>\n",
       "      <td>8500</td>\n",
       "      <td>60.6</td>\n",
       "      <td>252.0</td>\n",
       "      <td>0</td>\n",
       "      <td>102000</td>\n",
       "    </tr>\n",
       "    <tr>\n",
       "      <th>1</th>\n",
       "      <td>15.0</td>\n",
       "      <td>28</td>\n",
       "      <td>12500</td>\n",
       "      <td>60.6</td>\n",
       "      <td>420.0</td>\n",
       "      <td>1</td>\n",
       "      <td>187500</td>\n",
       "    </tr>\n",
       "    <tr>\n",
       "      <th>2</th>\n",
       "      <td>10.0</td>\n",
       "      <td>67</td>\n",
       "      <td>12500</td>\n",
       "      <td>60.6</td>\n",
       "      <td>670.0</td>\n",
       "      <td>0</td>\n",
       "      <td>125000</td>\n",
       "    </tr>\n",
       "    <tr>\n",
       "      <th>3</th>\n",
       "      <td>12.0</td>\n",
       "      <td>20</td>\n",
       "      <td>12500</td>\n",
       "      <td>60.6</td>\n",
       "      <td>240.0</td>\n",
       "      <td>0</td>\n",
       "      <td>150000</td>\n",
       "    </tr>\n",
       "    <tr>\n",
       "      <th>4</th>\n",
       "      <td>12.0</td>\n",
       "      <td>32</td>\n",
       "      <td>20000</td>\n",
       "      <td>60.6</td>\n",
       "      <td>384.0</td>\n",
       "      <td>1</td>\n",
       "      <td>240000</td>\n",
       "    </tr>\n",
       "  </tbody>\n",
       "</table>\n",
       "</div>"
      ],
      "text/plain": [
       "   educ  age  income  pcigs79  ageeduc  smoker  educincome\n",
       "0  12.0   21    8500     60.6    252.0       0      102000\n",
       "1  15.0   28   12500     60.6    420.0       1      187500\n",
       "2  10.0   67   12500     60.6    670.0       0      125000\n",
       "3  12.0   20   12500     60.6    240.0       0      150000\n",
       "4  12.0   32   20000     60.6    384.0       1      240000"
      ]
     },
     "execution_count": 2,
     "metadata": {},
     "output_type": "execute_result"
    }
   ],
   "source": [
    "data = pd.read_csv(\"GujaratiTable8_1.csv\")\n",
    "data.head()"
   ]
  },
  {
   "cell_type": "code",
   "execution_count": 3,
   "metadata": {},
   "outputs": [],
   "source": [
    "#表を作り、def関数を作り、（df＿fa,info）自分設定した引数、\n",
    "def feature_summary(df_fa, info):\n",
    "    print('DataFrame shape')\n",
    "    print('rows: ', df_fa.shape[0])\n",
    "    print('cols: ', df_fa.shape[1])\n",
    "#列の名称\n",
    "    col_list = ['info', 'Null', 'Unique_N', 'Type', 'Mean', 'Median', 'Std', 'Skewness', 'Sample_values']\n",
    "#dataframeを作成\n",
    "    df = pd.DataFrame(index=df_fa.columns, columns=col_list)   \n",
    "    df['Null'] = list([len(df_fa[col][df_fa[col].isnull()]) for i, col in enumerate(df_fa.columns)])\n",
    "    df['Unique_N'] = list([len(df_fa[col].unique()) for i, col in enumerate(df_fa.columns)])\n",
    "    df['Type'] = list([df_fa[col].dtype for i, col in enumerate(df_fa.columns)])\n",
    "    df['info'] = info\n",
    "    for i, col in enumerate(df_fa.columns):\n",
    "        if 'float' in str(df_fa[col].dtype) or 'int' in str(df_fa[col].dtype):\n",
    "            df.at[col, 'Mean'] = df_fa[col].mean()\n",
    "            df.at[col, 'Median'] = df_fa[col].median()\n",
    "            df.at[col, 'Std'] = df_fa[col].std()\n",
    "            df.at[col, 'Skewness'] = df_fa[col].skew()\n",
    "        df.at[col, 'Sample_values'] = list(df_fa[col].unique())\n",
    "    return df.fillna('-')"
   ]
  },
  {
   "cell_type": "code",
   "execution_count": 4,
   "metadata": {},
   "outputs": [
    {
     "name": "stdout",
     "output_type": "stream",
     "text": [
      "DataFrame shape\n",
      "rows:  1196\n",
      "cols:  7\n"
     ]
    },
    {
     "data": {
      "text/html": [
       "<div>\n",
       "<table border=\"1\" class=\"dataframe\">\n",
       "  <thead>\n",
       "    <tr style=\"text-align: right;\">\n",
       "      <th></th>\n",
       "      <th>info</th>\n",
       "      <th>Null</th>\n",
       "      <th>Unique_N</th>\n",
       "      <th>Type</th>\n",
       "      <th>Mean</th>\n",
       "      <th>Median</th>\n",
       "      <th>Std</th>\n",
       "      <th>Skewness</th>\n",
       "      <th>Sample_values</th>\n",
       "    </tr>\n",
       "  </thead>\n",
       "  <tbody>\n",
       "    <tr>\n",
       "      <th>educ</th>\n",
       "      <td>教育年数</td>\n",
       "      <td>0</td>\n",
       "      <td>10</td>\n",
       "      <td>float64</td>\n",
       "      <td>12.221154</td>\n",
       "      <td>12.0</td>\n",
       "      <td>3.275847</td>\n",
       "      <td>-0.539669</td>\n",
       "      <td>[12.0, 15.0, 10.0, 13.5, 0.0, 16.0, 2.5, 8.0, ...</td>\n",
       "    </tr>\n",
       "    <tr>\n",
       "      <th>age</th>\n",
       "      <td>年齢</td>\n",
       "      <td>0</td>\n",
       "      <td>71</td>\n",
       "      <td>int64</td>\n",
       "      <td>41.806856</td>\n",
       "      <td>39.0</td>\n",
       "      <td>17.056941</td>\n",
       "      <td>0.407220</td>\n",
       "      <td>[21, 28, 67, 20, 32, 46, 58, 27, 83, 24, 43, 1...</td>\n",
       "    </tr>\n",
       "    <tr>\n",
       "      <th>income</th>\n",
       "      <td>世代所得</td>\n",
       "      <td>0</td>\n",
       "      <td>11</td>\n",
       "      <td>int64</td>\n",
       "      <td>19304.765886</td>\n",
       "      <td>20000.0</td>\n",
       "      <td>9083.511331</td>\n",
       "      <td>-0.201524</td>\n",
       "      <td>[8500, 12500, 20000, 30000, 6500, 3500, 4500, ...</td>\n",
       "    </tr>\n",
       "    <tr>\n",
       "      <th>pcigs79</th>\n",
       "      <td>79年タバコ価額</td>\n",
       "      <td>0</td>\n",
       "      <td>42</td>\n",
       "      <td>float64</td>\n",
       "      <td>60.984950</td>\n",
       "      <td>62.1</td>\n",
       "      <td>4.848666</td>\n",
       "      <td>-1.009428</td>\n",
       "      <td>[60.6, 60.9, 60.8, 61.5, 62.1, 54.6, 67.0, 62....</td>\n",
       "    </tr>\n",
       "    <tr>\n",
       "      <th>ageeduc</th>\n",
       "      <td>年齢×教育</td>\n",
       "      <td>0</td>\n",
       "      <td>257</td>\n",
       "      <td>float64</td>\n",
       "      <td>498.954849</td>\n",
       "      <td>472.5</td>\n",
       "      <td>227.468150</td>\n",
       "      <td>0.556947</td>\n",
       "      <td>[252.0, 420.0, 670.0, 240.0, 384.0, 690.0, 696...</td>\n",
       "    </tr>\n",
       "    <tr>\n",
       "      <th>smoker</th>\n",
       "      <td>喫煙者(0,1)</td>\n",
       "      <td>0</td>\n",
       "      <td>2</td>\n",
       "      <td>int64</td>\n",
       "      <td>0.380435</td>\n",
       "      <td>0.0</td>\n",
       "      <td>0.485697</td>\n",
       "      <td>0.493170</td>\n",
       "      <td>[0, 1]</td>\n",
       "    </tr>\n",
       "    <tr>\n",
       "      <th>educincome</th>\n",
       "      <td>教育年数×世代所得</td>\n",
       "      <td>0</td>\n",
       "      <td>75</td>\n",
       "      <td>int64</td>\n",
       "      <td>246773.620401</td>\n",
       "      <td>240000.0</td>\n",
       "      <td>145644.926730</td>\n",
       "      <td>0.301007</td>\n",
       "      <td>[102000, 187500, 125000, 150000, 240000, 45000...</td>\n",
       "    </tr>\n",
       "  </tbody>\n",
       "</table>\n",
       "</div>"
      ],
      "text/plain": [
       "                 info  Null  Unique_N     Type           Mean    Median  \\\n",
       "educ             教育年数     0        10  float64      12.221154      12.0   \n",
       "age                年齢     0        71    int64      41.806856      39.0   \n",
       "income           世代所得     0        11    int64   19304.765886   20000.0   \n",
       "pcigs79      79年タバコ価額     0        42  float64      60.984950      62.1   \n",
       "ageeduc         年齢×教育     0       257  float64     498.954849     472.5   \n",
       "smoker       喫煙者(0,1)     0         2    int64       0.380435       0.0   \n",
       "educincome  教育年数×世代所得     0        75    int64  246773.620401  240000.0   \n",
       "\n",
       "                      Std  Skewness  \\\n",
       "educ             3.275847 -0.539669   \n",
       "age             17.056941  0.407220   \n",
       "income        9083.511331 -0.201524   \n",
       "pcigs79          4.848666 -1.009428   \n",
       "ageeduc        227.468150  0.556947   \n",
       "smoker           0.485697  0.493170   \n",
       "educincome  145644.926730  0.301007   \n",
       "\n",
       "                                                Sample_values  \n",
       "educ        [12.0, 15.0, 10.0, 13.5, 0.0, 16.0, 2.5, 8.0, ...  \n",
       "age         [21, 28, 67, 20, 32, 46, 58, 27, 83, 24, 43, 1...  \n",
       "income      [8500, 12500, 20000, 30000, 6500, 3500, 4500, ...  \n",
       "pcigs79     [60.6, 60.9, 60.8, 61.5, 62.1, 54.6, 67.0, 62....  \n",
       "ageeduc     [252.0, 420.0, 670.0, 240.0, 384.0, 690.0, 696...  \n",
       "smoker                                                 [0, 1]  \n",
       "educincome  [102000, 187500, 125000, 150000, 240000, 45000...  "
      ]
     },
     "execution_count": 4,
     "metadata": {},
     "output_type": "execute_result"
    }
   ],
   "source": [
    "feature_summary(data, ['教育年数', '年齢', '世代所得', '79年タバコ価額', '年齢×教育', '喫煙者(0,1)', '教育年数×世代所得'])"
   ]
  },
  {
   "cell_type": "markdown",
   "metadata": {},
   "source": [
    "## ロジスティック回帰モデル"
   ]
  },
  {
   "cell_type": "markdown",
   "metadata": {},
   "source": [
    "### 出力結果 "
   ]
  },
  {
   "cell_type": "code",
   "execution_count": 5,
   "metadata": {
    "scrolled": false
   },
   "outputs": [
    {
     "name": "stdout",
     "output_type": "stream",
     "text": [
      "Optimization terminated successfully.\n",
      "         Current function value: 0.639208\n",
      "         Iterations 5\n",
      "                         Results: Logit\n",
      "================================================================\n",
      "Model:              Logit            No. Iterations:   5.0000   \n",
      "Dependent Variable: smoker           Pseudo R-squared: 0.038    \n",
      "Date:               2018-10-10 23:02 AIC:              1540.9851\n",
      "No. Observations:   1196             BIC:              1571.5056\n",
      "Df Model:           5                Log-Likelihood:   -764.49  \n",
      "Df Residuals:       1190             LL-Null:          -794.47  \n",
      "Converged:          1.0000           Scale:            1.0000   \n",
      "-----------------------------------------------------------------\n",
      "              Coef.   Std.Err.     z     P>|z|    [0.025   0.975]\n",
      "-----------------------------------------------------------------\n",
      "Intercept     1.0932    0.9557   1.1439  0.2527  -0.7799   2.9663\n",
      "educ          0.0395    0.0425   0.9281  0.3533  -0.0439   0.1228\n",
      "age          -0.0183    0.0038  -4.8113  0.0000  -0.0257  -0.0108\n",
      "income        0.0001    0.0000   3.5352  0.0004   0.0000   0.0001\n",
      "pcigs79      -0.0217    0.0125  -1.7325  0.0832  -0.0463   0.0029\n",
      "educ:income  -0.0000    0.0000  -3.4897  0.0005  -0.0000  -0.0000\n",
      "================================================================\n",
      "\n"
     ]
    }
   ],
   "source": [
    "fit = smf.logit('smoker ~ educ + age + income + pcigs79 + educ:income', data=data).fit()\n",
    "#fit = smf.logit('smoker ~ educ + age + income + pcigs79 + educincome', data=data).fit()\n",
    "print(fit.summary2())"
   ]
  },
  {
   "cell_type": "markdown",
   "metadata": {},
   "source": [
    "限界効果：\n",
    "\n",
    "\\begin{align*}\n",
    "\\frac{d Pr(Y_i = 1)}{d X} = \\beta f(-\\alpha - \\beta X)\n",
    "\\end{align*}"
   ]
  },
  {
   "cell_type": "code",
   "execution_count": 6,
   "metadata": {},
   "outputs": [
    {
     "name": "stdout",
     "output_type": "stream",
     "text": [
      "ß shape:  (5,)\n",
      "X shape:  (1196, 5)\n"
     ]
    }
   ],
   "source": [
    "a = fit.params[0]\n",
    "ß = fit.params[1:].values\n",
    "X = data.loc[:, ['educ', 'age', 'income', 'pcigs79', 'educincome']].values\n",
    "print(\"ß shape: \", ß.shape)\n",
    "print(\"X shape: \", X.shape)"
   ]
  },
  {
   "cell_type": "code",
   "execution_count": 7,
   "metadata": {
    "scrolled": true
   },
   "outputs": [
    {
     "name": "stdout",
     "output_type": "stream",
     "text": [
      "1.0931856672926148\n",
      "[-1.17786168 -1.44430757 -1.88789521 ... -1.44494684 -1.82790169\n",
      " -1.40050539]\n"
     ]
    }
   ],
   "source": [
    "print(a)\n",
    "print(X.dot(ß))\n",
    "f_inner = -(a + X.dot(ß))"
   ]
  },
  {
   "cell_type": "code",
   "execution_count": 8,
   "metadata": {},
   "outputs": [],
   "source": [
    "from scipy.stats import logistic\n",
    "lg_pdf = logistic.pdf(f_inner)\n",
    "lg_pdf = lg_pdf.reshape(1196,1)\n",
    "me = ß.reshape(5,1).dot(lg_pdf.T)"
   ]
  },
  {
   "cell_type": "code",
   "execution_count": 9,
   "metadata": {},
   "outputs": [
    {
     "data": {
      "text/html": [
       "<div>\n",
       "<table border=\"1\" class=\"dataframe\">\n",
       "  <thead>\n",
       "    <tr style=\"text-align: right;\">\n",
       "      <th></th>\n",
       "      <th>educ</th>\n",
       "      <th>age</th>\n",
       "      <th>income</th>\n",
       "      <th>pcigs79</th>\n",
       "      <th>educincome</th>\n",
       "    </tr>\n",
       "  </thead>\n",
       "  <tbody>\n",
       "    <tr>\n",
       "      <th>0</th>\n",
       "      <td>0.009846</td>\n",
       "      <td>-0.004555</td>\n",
       "      <td>0.000024</td>\n",
       "      <td>-0.005417</td>\n",
       "      <td>-0.000002</td>\n",
       "    </tr>\n",
       "    <tr>\n",
       "      <th>1</th>\n",
       "      <td>0.009566</td>\n",
       "      <td>-0.004426</td>\n",
       "      <td>0.000023</td>\n",
       "      <td>-0.005263</td>\n",
       "      <td>-0.000002</td>\n",
       "    </tr>\n",
       "    <tr>\n",
       "      <th>2</th>\n",
       "      <td>0.008457</td>\n",
       "      <td>-0.003913</td>\n",
       "      <td>0.000020</td>\n",
       "      <td>-0.004653</td>\n",
       "      <td>-0.000002</td>\n",
       "    </tr>\n",
       "    <tr>\n",
       "      <th>3</th>\n",
       "      <td>0.009859</td>\n",
       "      <td>-0.004561</td>\n",
       "      <td>0.000024</td>\n",
       "      <td>-0.005424</td>\n",
       "      <td>-0.000002</td>\n",
       "    </tr>\n",
       "    <tr>\n",
       "      <th>4</th>\n",
       "      <td>0.009744</td>\n",
       "      <td>-0.004508</td>\n",
       "      <td>0.000023</td>\n",
       "      <td>-0.005361</td>\n",
       "      <td>-0.000002</td>\n",
       "    </tr>\n",
       "  </tbody>\n",
       "</table>\n",
       "</div>"
      ],
      "text/plain": [
       "       educ       age    income   pcigs79  educincome\n",
       "0  0.009846 -0.004555  0.000024 -0.005417   -0.000002\n",
       "1  0.009566 -0.004426  0.000023 -0.005263   -0.000002\n",
       "2  0.008457 -0.003913  0.000020 -0.004653   -0.000002\n",
       "3  0.009859 -0.004561  0.000024 -0.005424   -0.000002\n",
       "4  0.009744 -0.004508  0.000023 -0.005361   -0.000002"
      ]
     },
     "execution_count": 9,
     "metadata": {},
     "output_type": "execute_result"
    }
   ],
   "source": [
    "variables_nm = ['educ', 'age', 'income', 'pcigs79', 'educincome']\n",
    "me_table = pd.DataFrame(me.T, columns=variables_nm)\n",
    "me_table.head()"
   ]
  },
  {
   "cell_type": "code",
   "execution_count": 10,
   "metadata": {},
   "outputs": [
    {
     "data": {
      "text/plain": [
       "educ          0.008847\n",
       "age          -0.004093\n",
       "income        0.000021\n",
       "pcigs79      -0.004867\n",
       "educincome   -0.000002\n",
       "dtype: float64"
      ]
     },
     "execution_count": 10,
     "metadata": {},
     "output_type": "execute_result"
    }
   ],
   "source": [
    "me_table.mean()"
   ]
  },
  {
   "cell_type": "code",
   "execution_count": 11,
   "metadata": {},
   "outputs": [
    {
     "data": {
      "text/html": [
       "<table class=\"simpletable\">\n",
       "<caption>Logit Marginal Effects</caption>\n",
       "<tr>\n",
       "  <th>Dep. Variable:</th> <td>smoker</td> \n",
       "</tr>\n",
       "<tr>\n",
       "  <th>Method:</th>         <td>dydx</td>  \n",
       "</tr>\n",
       "<tr>\n",
       "  <th>At:</th>            <td>overall</td>\n",
       "</tr>\n",
       "</table>\n",
       "<table class=\"simpletable\">\n",
       "<tr>\n",
       "       <th></th>          <th>dy/dx</th>    <th>std err</th>      <th>z</th>      <th>P>|z|</th>  <th>[0.025</th>    <th>0.975]</th>  \n",
       "</tr>\n",
       "<tr>\n",
       "  <th>educ</th>        <td>    0.0088</td> <td>    0.010</td> <td>    0.929</td> <td> 0.353</td> <td>   -0.010</td> <td>    0.028</td>\n",
       "</tr>\n",
       "<tr>\n",
       "  <th>age</th>         <td>   -0.0041</td> <td>    0.001</td> <td>   -4.993</td> <td> 0.000</td> <td>   -0.006</td> <td>   -0.002</td>\n",
       "</tr>\n",
       "<tr>\n",
       "  <th>income</th>      <td>  2.13e-05</td> <td> 5.91e-06</td> <td>    3.602</td> <td> 0.000</td> <td> 9.71e-06</td> <td> 3.29e-05</td>\n",
       "</tr>\n",
       "<tr>\n",
       "  <th>pcigs79</th>     <td>   -0.0049</td> <td>    0.003</td> <td>   -1.741</td> <td> 0.082</td> <td>   -0.010</td> <td>    0.001</td>\n",
       "</tr>\n",
       "<tr>\n",
       "  <th>educ:income</th> <td> -1.67e-06</td> <td>  4.7e-07</td> <td>   -3.553</td> <td> 0.000</td> <td>-2.59e-06</td> <td>-7.49e-07</td>\n",
       "</tr>\n",
       "</table>"
      ],
      "text/plain": [
       "<class 'statsmodels.iolib.summary.Summary'>\n",
       "\"\"\"\n",
       "        Logit Marginal Effects       \n",
       "=====================================\n",
       "Dep. Variable:                 smoker\n",
       "Method:                          dydx\n",
       "At:                           overall\n",
       "===============================================================================\n",
       "                 dy/dx    std err          z      P>|z|      [0.025      0.975]\n",
       "-------------------------------------------------------------------------------\n",
       "educ            0.0088      0.010      0.929      0.353      -0.010       0.028\n",
       "age            -0.0041      0.001     -4.993      0.000      -0.006      -0.002\n",
       "income        2.13e-05   5.91e-06      3.602      0.000    9.71e-06    3.29e-05\n",
       "pcigs79        -0.0049      0.003     -1.741      0.082      -0.010       0.001\n",
       "educ:income  -1.67e-06    4.7e-07     -3.553      0.000   -2.59e-06   -7.49e-07\n",
       "===============================================================================\n",
       "\"\"\""
      ]
     },
     "execution_count": 11,
     "metadata": {},
     "output_type": "execute_result"
    }
   ],
   "source": [
    "#検証\n",
    "fit.get_margeff(at='overall').summary()"
   ]
  },
  {
   "cell_type": "markdown",
   "metadata": {},
   "source": [
    "## プロビットモデル"
   ]
  },
  {
   "cell_type": "code",
   "execution_count": 12,
   "metadata": {
    "scrolled": false
   },
   "outputs": [
    {
     "name": "stdout",
     "output_type": "stream",
     "text": [
      "Optimization terminated successfully.\n",
      "         Current function value: 0.638942\n",
      "         Iterations 5\n",
      "                        Results: Probit\n",
      "================================================================\n",
      "Model:              Probit           No. Iterations:   5.0000   \n",
      "Dependent Variable: smoker           Pseudo R-squared: 0.038    \n",
      "Date:               2018-10-10 23:02 AIC:              1540.3489\n",
      "No. Observations:   1196             BIC:              1570.8693\n",
      "Df Model:           5                Log-Likelihood:   -764.17  \n",
      "Df Residuals:       1190             LL-Null:          -794.47  \n",
      "Converged:          1.0000           Scale:            1.0000   \n",
      "-----------------------------------------------------------------\n",
      "              Coef.   Std.Err.     z     P>|z|    [0.025   0.975]\n",
      "-----------------------------------------------------------------\n",
      "Intercept     0.6821    0.5873   1.1613  0.2455  -0.4690   1.8331\n",
      "educ          0.0242    0.0260   0.9322  0.3512  -0.0267   0.0751\n",
      "age          -0.0114    0.0023  -4.8809  0.0000  -0.0160  -0.0068\n",
      "income        0.0001    0.0000   3.5884  0.0003   0.0000   0.0001\n",
      "pcigs79      -0.0134    0.0077  -1.7399  0.0819  -0.0286   0.0017\n",
      "educ:income  -0.0000    0.0000  -3.5513  0.0004  -0.0000  -0.0000\n",
      "================================================================\n",
      "\n"
     ]
    }
   ],
   "source": [
    "fit_pb = smf.probit('smoker ~ educ + age + income + pcigs79 + educ:income', data=data).fit()\n",
    "print(fit_pb.summary2())"
   ]
  },
  {
   "cell_type": "markdown",
   "metadata": {},
   "source": [
    "限界効果\n",
    "\\begin{align*}\n",
    "\\frac{d Pr(Y_i = 1)}{d X} = \\tau f(-\\gamma - \\tau X)\n",
    "\\end{align*}"
   ]
  },
  {
   "cell_type": "code",
   "execution_count": 13,
   "metadata": {
    "scrolled": false
   },
   "outputs": [
    {
     "name": "stdout",
     "output_type": "stream",
     "text": [
      "t shape:  (5,)\n",
      "X shape:  (1196, 5)\n"
     ]
    }
   ],
   "source": [
    "r = fit_pb.params[0]\n",
    "t = fit_pb.params[1:].values\n",
    "X = data.loc[:, ['educ', 'age', 'income', 'pcigs79', 'educincome']].values\n",
    "print(\"t shape: \", t.shape)\n",
    "print(\"X shape: \", X.shape)"
   ]
  },
  {
   "cell_type": "code",
   "execution_count": 14,
   "metadata": {},
   "outputs": [
    {
     "name": "stdout",
     "output_type": "stream",
     "text": [
      "0.6820504936358941\n",
      "[-0.73405038 -0.89820236 -1.17864672 ... -0.90028482 -1.14118038\n",
      " -0.87154293]\n"
     ]
    }
   ],
   "source": [
    "print(r)\n",
    "print(X.dot(t))\n",
    "f_inner = -(r + X.dot(t))"
   ]
  },
  {
   "cell_type": "code",
   "execution_count": 15,
   "metadata": {},
   "outputs": [],
   "source": [
    "from scipy.stats import norm\n",
    "pb_pdf = norm.pdf(f_inner)\n",
    "pb_pdf = pb_pdf.reshape(1196,1)\n",
    "me_pb = t.reshape(5,1).dot(pb_pdf.T)"
   ]
  },
  {
   "cell_type": "code",
   "execution_count": 16,
   "metadata": {},
   "outputs": [
    {
     "data": {
      "text/html": [
       "<div>\n",
       "<table border=\"1\" class=\"dataframe\">\n",
       "  <thead>\n",
       "    <tr style=\"text-align: right;\">\n",
       "      <th></th>\n",
       "      <th>educ</th>\n",
       "      <th>age</th>\n",
       "      <th>income</th>\n",
       "      <th>pcigs79</th>\n",
       "      <th>educincome</th>\n",
       "    </tr>\n",
       "  </thead>\n",
       "  <tbody>\n",
       "    <tr>\n",
       "      <th>0</th>\n",
       "      <td>0.009642</td>\n",
       "      <td>-0.004535</td>\n",
       "      <td>0.000023</td>\n",
       "      <td>-0.005354</td>\n",
       "      <td>-0.000002</td>\n",
       "    </tr>\n",
       "    <tr>\n",
       "      <th>1</th>\n",
       "      <td>0.009432</td>\n",
       "      <td>-0.004436</td>\n",
       "      <td>0.000023</td>\n",
       "      <td>-0.005237</td>\n",
       "      <td>-0.000002</td>\n",
       "    </tr>\n",
       "    <tr>\n",
       "      <th>2</th>\n",
       "      <td>0.008535</td>\n",
       "      <td>-0.004014</td>\n",
       "      <td>0.000020</td>\n",
       "      <td>-0.004739</td>\n",
       "      <td>-0.000002</td>\n",
       "    </tr>\n",
       "    <tr>\n",
       "      <th>3</th>\n",
       "      <td>0.009651</td>\n",
       "      <td>-0.004539</td>\n",
       "      <td>0.000023</td>\n",
       "      <td>-0.005359</td>\n",
       "      <td>-0.000002</td>\n",
       "    </tr>\n",
       "    <tr>\n",
       "      <th>4</th>\n",
       "      <td>0.009563</td>\n",
       "      <td>-0.004498</td>\n",
       "      <td>0.000023</td>\n",
       "      <td>-0.005310</td>\n",
       "      <td>-0.000002</td>\n",
       "    </tr>\n",
       "  </tbody>\n",
       "</table>\n",
       "</div>"
      ],
      "text/plain": [
       "       educ       age    income   pcigs79  educincome\n",
       "0  0.009642 -0.004535  0.000023 -0.005354   -0.000002\n",
       "1  0.009432 -0.004436  0.000023 -0.005237   -0.000002\n",
       "2  0.008535 -0.004014  0.000020 -0.004739   -0.000002\n",
       "3  0.009651 -0.004539  0.000023 -0.005359   -0.000002\n",
       "4  0.009563 -0.004498  0.000023 -0.005310   -0.000002"
      ]
     },
     "execution_count": 16,
     "metadata": {},
     "output_type": "execute_result"
    }
   ],
   "source": [
    "variables_nm = ['educ', 'age', 'income', 'pcigs79', 'educincome']\n",
    "me_table_pb = pd.DataFrame(me_pb.T, columns=variables_nm)\n",
    "me_table_pb.head()"
   ]
  },
  {
   "cell_type": "code",
   "execution_count": 17,
   "metadata": {},
   "outputs": [
    {
     "data": {
      "text/plain": [
       "educ          0.008834\n",
       "age          -0.004155\n",
       "income        0.000021\n",
       "pcigs79      -0.004905\n",
       "educincome   -0.000002\n",
       "dtype: float64"
      ]
     },
     "execution_count": 17,
     "metadata": {},
     "output_type": "execute_result"
    }
   ],
   "source": [
    "me_table_pb.mean()"
   ]
  },
  {
   "cell_type": "code",
   "execution_count": 18,
   "metadata": {},
   "outputs": [
    {
     "data": {
      "text/html": [
       "<table class=\"simpletable\">\n",
       "<caption>Probit Marginal Effects</caption>\n",
       "<tr>\n",
       "  <th>Dep. Variable:</th> <td>smoker</td> \n",
       "</tr>\n",
       "<tr>\n",
       "  <th>Method:</th>         <td>dydx</td>  \n",
       "</tr>\n",
       "<tr>\n",
       "  <th>At:</th>            <td>overall</td>\n",
       "</tr>\n",
       "</table>\n",
       "<table class=\"simpletable\">\n",
       "<tr>\n",
       "       <th></th>          <th>dy/dx</th>    <th>std err</th>      <th>z</th>      <th>P>|z|</th>  <th>[0.025</th>    <th>0.975]</th>  \n",
       "</tr>\n",
       "<tr>\n",
       "  <th>educ</th>        <td>    0.0088</td> <td>    0.009</td> <td>    0.933</td> <td> 0.351</td> <td>   -0.010</td> <td>    0.027</td>\n",
       "</tr>\n",
       "<tr>\n",
       "  <th>age</th>         <td>   -0.0042</td> <td>    0.001</td> <td>   -5.037</td> <td> 0.000</td> <td>   -0.006</td> <td>   -0.003</td>\n",
       "</tr>\n",
       "<tr>\n",
       "  <th>income</th>      <td> 2.118e-05</td> <td> 5.81e-06</td> <td>    3.646</td> <td> 0.000</td> <td> 9.79e-06</td> <td> 3.26e-05</td>\n",
       "</tr>\n",
       "<tr>\n",
       "  <th>pcigs79</th>     <td>   -0.0049</td> <td>    0.003</td> <td>   -1.747</td> <td> 0.081</td> <td>   -0.010</td> <td>    0.001</td>\n",
       "</tr>\n",
       "<tr>\n",
       "  <th>educ:income</th> <td>-1.661e-06</td> <td> 4.61e-07</td> <td>   -3.607</td> <td> 0.000</td> <td>-2.56e-06</td> <td>-7.59e-07</td>\n",
       "</tr>\n",
       "</table>"
      ],
      "text/plain": [
       "<class 'statsmodels.iolib.summary.Summary'>\n",
       "\"\"\"\n",
       "       Probit Marginal Effects       \n",
       "=====================================\n",
       "Dep. Variable:                 smoker\n",
       "Method:                          dydx\n",
       "At:                           overall\n",
       "===============================================================================\n",
       "                 dy/dx    std err          z      P>|z|      [0.025      0.975]\n",
       "-------------------------------------------------------------------------------\n",
       "educ            0.0088      0.009      0.933      0.351      -0.010       0.027\n",
       "age            -0.0042      0.001     -5.037      0.000      -0.006      -0.003\n",
       "income       2.118e-05   5.81e-06      3.646      0.000    9.79e-06    3.26e-05\n",
       "pcigs79        -0.0049      0.003     -1.747      0.081      -0.010       0.001\n",
       "educ:income -1.661e-06   4.61e-07     -3.607      0.000   -2.56e-06   -7.59e-07\n",
       "===============================================================================\n",
       "\"\"\""
      ]
     },
     "execution_count": 18,
     "metadata": {},
     "output_type": "execute_result"
    }
   ],
   "source": [
    "#検証\n",
    "fit_pb.get_margeff(at='overall').summary()"
   ]
  },
  {
   "cell_type": "markdown",
   "metadata": {},
   "source": [
    "## 解釈"
   ]
  },
  {
   "cell_type": "markdown",
   "metadata": {},
   "source": [
    "- ロジスティック回帰モデル\n",
    "\n",
    "<p>ロジスティック回帰モデルでは、限界効果から見ると、年齢と収入と教育年数×収入所得は5%有意な結果が得られた。年齢は喫煙者に負の影響を及ぼし、年齢は1歳が増えるにつれて、喫煙者の確率が0.4%減少する傾向が見られる。一方、収入については喫煙率に正の影響を及ぼし、教育年数と収入所得の交互作用は喫煙者に負の有意な結果が得られるが、数値は限りなく0に近いため、実質的有意性があるかどうか、検討する必要があると思われる。</p>\n",
    "- プロビット回帰モデル\n",
    "\n",
    "<p>プロビット回帰モデルでは、年齢と収入と教育年数×収入所得は5%有意な結果が得られた。ロジスティック回帰モデルもちほとんど同じである。</p>"
   ]
  }
 ],
 "metadata": {
  "kernelspec": {
   "display_name": "Python 3",
   "language": "python",
   "name": "python3"
  },
  "language_info": {
   "codemirror_mode": {
    "name": "ipython",
    "version": 3
   },
   "file_extension": ".py",
   "mimetype": "text/x-python",
   "name": "python",
   "nbconvert_exporter": "python",
   "pygments_lexer": "ipython3",
   "version": "3.6.4"
  },
  "toc": {
   "base_numbering": 1,
   "nav_menu": {},
   "number_sections": true,
   "sideBar": true,
   "skip_h1_title": false,
   "title_cell": "Table of Contents",
   "title_sidebar": "Contents",
   "toc_cell": false,
   "toc_position": {},
   "toc_section_display": true,
   "toc_window_display": false
  }
 },
 "nbformat": 4,
 "nbformat_minor": 2
}
